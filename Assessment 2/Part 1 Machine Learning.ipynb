{
 "cells": [
  {
   "cell_type": "code",
   "execution_count": 30,
   "metadata": {},
   "outputs": [],
   "source": [
    "# importing libraries \n",
    "import pandas as pd \n",
    "import numpy as np \n",
    "from sklearn.preprocessing import OneHotEncoder\n",
    "\n"
   ]
  },
  {
   "cell_type": "code",
   "execution_count": 31,
   "metadata": {},
   "outputs": [],
   "source": [
    "# Load the CSV data into a DataFrame\n",
    "data = pd.read_csv('E:\\COMP2002\\insurance_dataset.csv')"
   ]
  },
  {
   "cell_type": "code",
   "execution_count": 32,
   "metadata": {},
   "outputs": [],
   "source": [
    "data_encoded = pd.get_dummies(data, columns=['gender', 'smoker', 'region', 'medical_history', 'family_medical_history'])"
   ]
  },
  {
   "cell_type": "code",
   "execution_count": 33,
   "metadata": {},
   "outputs": [
    {
     "name": "stdout",
     "output_type": "stream",
     "text": [
      "   exercise_frequency  occupation  coverage_level\n",
      "0                   0           2               2\n",
      "1                   2           3               2\n",
      "2                   2           2               2\n",
      "3                   1           3               1\n",
      "4                   1           3               1\n"
     ]
    }
   ],
   "source": [
    "# Define the mapping for each column based on the given order.\n",
    "exercise_frequency_mapping = {'Never': 0, 'Rarely': 1, 'Occasionally': 2, 'Frequently': 3}\n",
    "occupation_mapping = {'Unemployed': 0, 'Student': 1, 'Blue collar': 2, 'White collar': 3}\n",
    "coverage_level_mapping = {'Basic': 0, 'Standard': 1, 'Premium': 2}\n",
    "\n",
    "# Replace the string categories with the defined ordinal mapping\n",
    "data['exercise_frequency'] = data['exercise_frequency'].map(exercise_frequency_mapping)\n",
    "data['occupation'] = data['occupation'].map(occupation_mapping)\n",
    "data['coverage_level'] = data['coverage_level'].map(coverage_level_mapping)\n",
    "\n",
    "# Check if everything is encoded correctly\n",
    "print(data[['exercise_frequency', 'occupation', 'coverage_level']].head())"
   ]
  },
  {
   "cell_type": "code",
   "execution_count": 34,
   "metadata": {},
   "outputs": [
    {
     "name": "stdout",
     "output_type": "stream",
     "text": [
      "        age  gender    bmi  children smoker     region      medical_history  \\\n",
      "0        46    male  21.45         5    yes  southeast             Diabetes   \n",
      "1        25  female  25.38         2    yes  northwest             Diabetes   \n",
      "2        38    male  44.88         2    yes  southwest                  NaN   \n",
      "3        25    male  19.89         0     no  northwest                  NaN   \n",
      "4        49    male  38.21         3    yes  northwest             Diabetes   \n",
      "...     ...     ...    ...       ...    ...        ...                  ...   \n",
      "999995   59    male  46.67         2     no  northeast  High blood pressure   \n",
      "999996   33    male  36.83         2     no  northeast                  NaN   \n",
      "999997   39    male  39.84         0    yes  northeast        Heart disease   \n",
      "999998   37  female  45.06         4    yes  northeast  High blood pressure   \n",
      "999999   41    male  30.02         2    yes  northeast             Diabetes   \n",
      "\n",
      "       family_medical_history  exercise_frequency  occupation  coverage_level  \\\n",
      "0                         NaN                   0           2               2   \n",
      "1         High blood pressure                   2           3               2   \n",
      "2         High blood pressure                   2           2               2   \n",
      "3                    Diabetes                   1           3               1   \n",
      "4         High blood pressure                   1           3               1   \n",
      "...                       ...                 ...         ...             ...   \n",
      "999995                    NaN                   3           1               0   \n",
      "999996    High blood pressure                   3           0               0   \n",
      "999997    High blood pressure                   1           2               1   \n",
      "999998               Diabetes                   2           0               2   \n",
      "999999          Heart disease                   2           2               1   \n",
      "\n",
      "             charges  \n",
      "0       20460.307670  \n",
      "1       20390.899220  \n",
      "2       20204.476300  \n",
      "3       11789.029840  \n",
      "4       19268.309840  \n",
      "...              ...  \n",
      "999995  11584.134900  \n",
      "999996   9834.871456  \n",
      "999997  22076.632860  \n",
      "999998  20297.618730  \n",
      "999999  23429.725030  \n",
      "\n",
      "[1000000 rows x 12 columns]\n"
     ]
    }
   ],
   "source": [
    "print(data)"
   ]
  }
 ],
 "metadata": {
  "kernelspec": {
   "display_name": "Python 3",
   "language": "python",
   "name": "python3"
  },
  "language_info": {
   "codemirror_mode": {
    "name": "ipython",
    "version": 3
   },
   "file_extension": ".py",
   "mimetype": "text/x-python",
   "name": "python",
   "nbconvert_exporter": "python",
   "pygments_lexer": "ipython3",
   "version": "3.11.5"
  }
 },
 "nbformat": 4,
 "nbformat_minor": 2
}
