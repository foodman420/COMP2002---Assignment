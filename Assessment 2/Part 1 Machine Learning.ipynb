{
 "cells": [
  {
   "cell_type": "code",
   "execution_count": 86,
   "metadata": {},
   "outputs": [],
   "source": [
    "# importing libraries \n",
    "import pandas as pd \n",
    "import numpy as np \n",
    "from sklearn.preprocessing import OneHotEncoder\n",
    "from sklearn.model_selection import train_test_split\n",
    "\n"
   ]
  },
  {
   "cell_type": "code",
   "execution_count": 87,
   "metadata": {},
   "outputs": [],
   "source": [
    "# Load the CSV data into a DataFrame\n",
    "data = pd.read_csv('E:\\COMP2002\\insurance_dataset.csv')"
   ]
  },
  {
   "cell_type": "code",
   "execution_count": 88,
   "metadata": {},
   "outputs": [],
   "source": [
    "data_encoded = pd.get_dummies(data, columns=['gender', 'smoker', 'region', 'medical_history', 'family_medical_history'])"
   ]
  },
  {
   "cell_type": "code",
   "execution_count": 89,
   "metadata": {},
   "outputs": [],
   "source": [
    "# Define the mapping for each column based on the given order.\n",
    "ordinal_mappings = {\n",
    "    'exercise_frequency': {'Never': 0, 'Rarely': 1, 'Occasionally': 2, 'Frequently': 3},\n",
    "    'occupation': {'Unemployed': 0, 'Student': 1, 'Blue collar': 2, 'White collar': 3},\n",
    "    'coverage_level': {'Basic': 0, 'Standard': 1, 'Premium': 2}\n",
    "}\n",
    "\n",
    "# Replace the string categories with the defined ordinal mappings\n",
    "\n",
    "\n",
    "for column, mapping in ordinal_mappings.items():\n",
    "    data_encoded[column] = data_encoded[column].map(mapping)\n"
   ]
  },
  {
   "cell_type": "code",
   "execution_count": 90,
   "metadata": {},
   "outputs": [],
   "source": [
    "target = data_encoded['charges']\n",
    "features = data_encoded[['age', 'bmi', 'children', 'exercise_frequency', 'occupation',\n",
    "       'coverage_level', 'charges', 'gender_female', 'gender_male',\n",
    "       'smoker_no', 'smoker_yes', 'region_northeast', 'region_northwest',\n",
    "       'region_southeast', 'region_southwest', 'medical_history_Diabetes',\n",
    "       'medical_history_Heart disease', 'medical_history_High blood pressure',\n",
    "       'family_medical_history_Diabetes',\n",
    "       'family_medical_history_Heart disease',\n",
    "       'family_medical_history_High blood pressure']]\n",
    "\n",
    "\n"
   ]
  },
  {
   "cell_type": "code",
   "execution_count": 91,
   "metadata": {},
   "outputs": [],
   "source": [
    "# Assuming 'features' is a DataFrame with your input variables and 'target' is a DataFrame with your output variable\n",
    "X_train, X_test, y_train, y_test = train_test_split(features, data, test_size=0.1, random_state=42)"
   ]
  },
  {
   "cell_type": "code",
   "execution_count": 92,
   "metadata": {},
   "outputs": [
    {
     "name": "stdout",
     "output_type": "stream",
     "text": [
      "        age    bmi  children  exercise_frequency  occupation  coverage_level  \\\n",
      "0        46  21.45         5                   0           2               2   \n",
      "1        25  25.38         2                   2           3               2   \n",
      "2        38  44.88         2                   2           2               2   \n",
      "3        25  19.89         0                   1           3               1   \n",
      "4        49  38.21         3                   1           3               1   \n",
      "...     ...    ...       ...                 ...         ...             ...   \n",
      "999995   59  46.67         2                   3           1               0   \n",
      "999996   33  36.83         2                   3           0               0   \n",
      "999997   39  39.84         0                   1           2               1   \n",
      "999998   37  45.06         4                   2           0               2   \n",
      "999999   41  30.02         2                   2           2               1   \n",
      "\n",
      "             charges  gender_female  gender_male  smoker_no  ...  \\\n",
      "0       20460.307670          False         True      False  ...   \n",
      "1       20390.899220           True        False      False  ...   \n",
      "2       20204.476300          False         True      False  ...   \n",
      "3       11789.029840          False         True       True  ...   \n",
      "4       19268.309840          False         True      False  ...   \n",
      "...              ...            ...          ...        ...  ...   \n",
      "999995  11584.134900          False         True       True  ...   \n",
      "999996   9834.871456          False         True       True  ...   \n",
      "999997  22076.632860          False         True      False  ...   \n",
      "999998  20297.618730           True        False      False  ...   \n",
      "999999  23429.725030          False         True      False  ...   \n",
      "\n",
      "        region_northeast  region_northwest  region_southeast  \\\n",
      "0                  False             False              True   \n",
      "1                  False              True             False   \n",
      "2                  False             False             False   \n",
      "3                  False              True             False   \n",
      "4                  False              True             False   \n",
      "...                  ...               ...               ...   \n",
      "999995              True             False             False   \n",
      "999996              True             False             False   \n",
      "999997              True             False             False   \n",
      "999998              True             False             False   \n",
      "999999              True             False             False   \n",
      "\n",
      "        region_southwest  medical_history_Diabetes  \\\n",
      "0                  False                      True   \n",
      "1                  False                      True   \n",
      "2                   True                     False   \n",
      "3                  False                     False   \n",
      "4                  False                      True   \n",
      "...                  ...                       ...   \n",
      "999995             False                     False   \n",
      "999996             False                     False   \n",
      "999997             False                     False   \n",
      "999998             False                     False   \n",
      "999999             False                      True   \n",
      "\n",
      "        medical_history_Heart disease  medical_history_High blood pressure  \\\n",
      "0                               False                                False   \n",
      "1                               False                                False   \n",
      "2                               False                                False   \n",
      "3                               False                                False   \n",
      "4                               False                                False   \n",
      "...                               ...                                  ...   \n",
      "999995                          False                                 True   \n",
      "999996                          False                                False   \n",
      "999997                           True                                False   \n",
      "999998                          False                                 True   \n",
      "999999                          False                                False   \n",
      "\n",
      "        family_medical_history_Diabetes  family_medical_history_Heart disease  \\\n",
      "0                                 False                                 False   \n",
      "1                                 False                                 False   \n",
      "2                                 False                                 False   \n",
      "3                                  True                                 False   \n",
      "4                                 False                                 False   \n",
      "...                                 ...                                   ...   \n",
      "999995                            False                                 False   \n",
      "999996                            False                                 False   \n",
      "999997                            False                                 False   \n",
      "999998                             True                                 False   \n",
      "999999                            False                                  True   \n",
      "\n",
      "        family_medical_history_High blood pressure  \n",
      "0                                            False  \n",
      "1                                             True  \n",
      "2                                             True  \n",
      "3                                            False  \n",
      "4                                             True  \n",
      "...                                            ...  \n",
      "999995                                       False  \n",
      "999996                                        True  \n",
      "999997                                        True  \n",
      "999998                                       False  \n",
      "999999                                       False  \n",
      "\n",
      "[1000000 rows x 21 columns]\n"
     ]
    }
   ],
   "source": [
    "print(data_encoded)"
   ]
  }
 ],
 "metadata": {
  "kernelspec": {
   "display_name": "Python 3",
   "language": "python",
   "name": "python3"
  },
  "language_info": {
   "codemirror_mode": {
    "name": "ipython",
    "version": 3
   },
   "file_extension": ".py",
   "mimetype": "text/x-python",
   "name": "python",
   "nbconvert_exporter": "python",
   "pygments_lexer": "ipython3",
   "version": "3.11.5"
  }
 },
 "nbformat": 4,
 "nbformat_minor": 2
}
